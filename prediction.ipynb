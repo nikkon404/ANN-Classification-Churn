{
 "cells": [
  {
   "cell_type": "code",
   "execution_count": null,
   "id": "e6317968",
   "metadata": {},
   "outputs": [],
   "source": [
    "import tensorflow as tf\n",
    "from tensorflow.keras.models import load_model\n",
    "import pickle\n",
    "import pandas as pd\n",
    "import numpy as np"
   ]
  },
  {
   "cell_type": "code",
   "execution_count": null,
   "id": "db75d7eb",
   "metadata": {},
   "outputs": [],
   "source": [
    "# load the ANN model, scaler pickkle file, one-hot encoder pickle file\n",
    "\n",
    "model = load_model('model.h5')\n",
    "\n",
    "# load the encoder and scaler\n",
    "with open('label_encoder_gender.pkl', 'rb') as f:\n",
    "    label_encoder_gender = pickle.load(f)\n",
    "\n",
    "with open(\"onehot_encoder_geo.pkl\", \"rb\") as f:\n",
    "    label_encoder_geo = pickle.load(f)\n",
    "\n",
    "with open('scaler.pkl', 'rb') as f:\n",
    "    scaler = pickle.load(f)"
   ]
  },
  {
   "cell_type": "code",
   "execution_count": null,
   "id": "928733e2",
   "metadata": {},
   "outputs": [],
   "source": [
    "#  example data - credit scre, geo, gender,age,tenure,balance, numofproducts,hascrcar,isactivemember,estimated sal\n",
    "\n",
    "input_data = { \n",
    "    'CreditScore': 600,\n",
    "    'Geography': 'France',\n",
    "    'Gender': 'Male',\n",
    "    'Age': 40,\n",
    "    'Tenure': 5,\n",
    "    'Balance': 10000,\n",
    "    'NumOfProducts': 2,\n",
    "    'HasCrCard': 1,\n",
    "    'IsActiveMember': 1,\n",
    "    'EstimatedSalary': 50000\n",
    "}"
   ]
  },
  {
   "cell_type": "code",
   "execution_count": null,
   "id": "54473102",
   "metadata": {},
   "outputs": [],
   "source": [
    "#  One hot encode geography\n",
    "geo_encoded = label_encoder_geo.transform([[input_data['Geography']]]).toarray()\n",
    "geo_encoded_df = pd.DataFrame(geo_encoded, columns=label_encoder_geo.get_feature_names_out(['Geography']))\n",
    "geo_encoded_df "
   ]
  },
  {
   "cell_type": "code",
   "execution_count": null,
   "id": "f3cd0b81",
   "metadata": {},
   "outputs": [],
   "source": [
    "input_df = pd.DataFrame([input_data])\n",
    "input_df"
   ]
  },
  {
   "cell_type": "code",
   "execution_count": null,
   "id": "ea0dd697",
   "metadata": {},
   "outputs": [],
   "source": [
    "# encode categorical variables\n",
    "input_df['Gender'] = label_encoder_gender.transform([input_df['Gender']]) \n",
    "input_df"
   ]
  },
  {
   "cell_type": "code",
   "execution_count": null,
   "id": "a9c2902b",
   "metadata": {},
   "outputs": [],
   "source": [
    "# drop the Geography column from input_df\n",
    "input_df = input_df.drop(columns=['Geography'])\n",
    "\n",
    "# concatenate the encoded geography with the input data\n",
    "\n",
    "\n",
    "input_df = pd.concat([input_df, geo_encoded_df], axis=1)\n",
    "\n",
    "input_df"
   ]
  },
  {
   "cell_type": "code",
   "execution_count": null,
   "id": "bbc8a83d",
   "metadata": {},
   "outputs": [],
   "source": [
    "#  Scale the input data\n",
    "input_scaled = scaler.transform(input_df)\n",
    "input_scaled"
   ]
  },
  {
   "cell_type": "code",
   "execution_count": null,
   "id": "77fd4bfd",
   "metadata": {},
   "outputs": [],
   "source": [
    "#  Make prediction\n",
    "prediction = model.predict(input_scaled)\n",
    "print(prediction)\n",
    "predicted_class = np.argmax(prediction, axis=1)\n",
    "\n",
    "#  Print the prediction\n",
    "if predicted_class[0] == 0:\n",
    "    print(\"The customer is likely to leave the bank.\")\n",
    "else:\n",
    "    print(\"The customer is likely to stay with the bank.\")"
   ]
  }
 ],
 "metadata": {
  "kernelspec": {
   "display_name": "venv",
   "language": "python",
   "name": "python3"
  },
  "language_info": {
   "codemirror_mode": {
    "name": "ipython",
    "version": 3
   },
   "file_extension": ".py",
   "mimetype": "text/x-python",
   "name": "python",
   "nbconvert_exporter": "python",
   "pygments_lexer": "ipython3",
   "version": "3.9.6"
  }
 },
 "nbformat": 4,
 "nbformat_minor": 5
}
