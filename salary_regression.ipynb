{
 "cells": [
  {
   "cell_type": "code",
   "execution_count": null,
   "id": "c6be1ee6",
   "metadata": {},
   "outputs": [],
   "source": [
    "import pandas as pd\n",
    "from sklearn.preprocessing import LabelEncoder, StandardScaler, OneHotEncoder\n",
    "import numpy as np\n",
    "from sklearn.model_selection import train_test_split\n",
    "import pickle    "
   ]
  },
  {
   "cell_type": "code",
   "execution_count": null,
   "id": "321675e2",
   "metadata": {},
   "outputs": [],
   "source": [
    "data= pd.read_csv('Churn_Modelling.csv')\n"
   ]
  },
  {
   "cell_type": "code",
   "execution_count": null,
   "id": "d98bbafa",
   "metadata": {},
   "outputs": [],
   "source": [
    "data = data.drop(columns=[\"RowNumber\", \"CustomerId\", \"Surname\"])"
   ]
  },
  {
   "cell_type": "code",
   "execution_count": null,
   "id": "75b07897",
   "metadata": {},
   "outputs": [],
   "source": [
    "#  encode categorical variables\n",
    "label_encoder_gender = LabelEncoder()\n",
    "data[\"Gender\"] = label_encoder_gender.fit_transform(data[\"Gender\"])\n",
    "data"
   ]
  },
  {
   "cell_type": "code",
   "execution_count": null,
   "id": "cd9fd805",
   "metadata": {},
   "outputs": [],
   "source": [
    "onehot_encoder_geo = OneHotEncoder()\n",
    "geo_encoder = onehot_encoder_geo.fit_transform(data[[\"Geography\"]])\n",
    "geo_encoder"
   ]
  },
  {
   "cell_type": "code",
   "execution_count": null,
   "id": "9ad455df",
   "metadata": {},
   "outputs": [],
   "source": [
    "geo_encoded_df = pd.DataFrame(\n",
    "    geo_encoder.toarray(), columns=onehot_encoder_geo.get_feature_names_out()\n",
    ")"
   ]
  },
  {
   "cell_type": "code",
   "execution_count": null,
   "id": "27f5ef3d",
   "metadata": {},
   "outputs": [],
   "source": [
    "# combile one hot encoded columns with the original data\n",
    "\n",
    "data = pd.concat([data.drop(columns=[\"Geography\"]), geo_encoded_df], axis=1)\n",
    "data.head()"
   ]
  },
  {
   "cell_type": "code",
   "execution_count": null,
   "id": "68da9fca",
   "metadata": {},
   "outputs": [],
   "source": [
    "#  divide the dataset into independent and dependent features\n",
    "X = data.drop(columns=[\"EstimatedSalary\"]\n",
    ")  # these are the independent features to predict the target variable\n",
    "y = data[\"EstimatedSalary\"]  # this is the target variable"
   ]
  },
  {
   "cell_type": "code",
   "execution_count": null,
   "id": "ed7522f9",
   "metadata": {},
   "outputs": [],
   "source": [
    "#  split the dataset into training and testing sets\n",
    "X_train, X_test, y_train, y_test = train_test_split(\n",
    "    X, y, test_size=0.2, random_state=42\n",
    ")"
   ]
  },
  {
   "cell_type": "code",
   "execution_count": null,
   "id": "81890170",
   "metadata": {},
   "outputs": [],
   "source": [
    "# scale the features\n",
    "scaler = StandardScaler()\n",
    "X_train = scaler.fit_transform(X_train)\n",
    "X_test = scaler.transform(X_test)"
   ]
  },
  {
   "cell_type": "code",
   "execution_count": null,
   "id": "3eaf7f60",
   "metadata": {},
   "outputs": [],
   "source": [
    "\n",
    "# save the encoders and scaler\n",
    "\n",
    "with open(\"label_encoder_gender.pkl\", \"wb\") as f:\n",
    "    pickle.dump(label_encoder_gender, f)\n",
    "with open(\"onehot_encoder_geo.pkl\", \"wb\") as f:\n",
    "    pickle.dump(onehot_encoder_geo, f)\n",
    "\n",
    "with open(\"scaler.pkl\", \"wb\") as f:\n",
    "    pickle.dump(scaler, f)"
   ]
  },
  {
   "cell_type": "markdown",
   "id": "7257a1ba",
   "metadata": {},
   "source": [
    "## ANN Regression Problem Statement"
   ]
  },
  {
   "cell_type": "code",
   "execution_count": null,
   "id": "9a2e0028",
   "metadata": {},
   "outputs": [],
   "source": [
    "import tensorflow as tf\n",
    "from tensorflow.keras.models import Sequential  # used to create a sequential model\n",
    "from tensorflow.keras.layers import Dense  # used to create a dense layer"
   ]
  },
  {
   "cell_type": "code",
   "execution_count": null,
   "id": "07a79efe",
   "metadata": {},
   "outputs": [],
   "source": [
    "# build our ANN model\n",
    "num_input_layers = (X_train.shape[1],)\n",
    "\n",
    "\n",
    "model = Sequential(\n",
    "    [\n",
    "        Dense(\n",
    "            64, activation=\"relu\", input_shape=num_input_layers\n",
    "        ),  # HL1 connected to input layer\n",
    "        Dense(32, activation=\"relu\"),  # HL2 connected to previous HL\n",
    "        Dense(1),  # output layer for binary classification\n",
    "    ]\n",
    ")"
   ]
  },
  {
   "cell_type": "code",
   "execution_count": null,
   "id": "63ae4f2c",
   "metadata": {},
   "outputs": [],
   "source": [
    "# compile the model\n",
    "model.compile(optimizer=\"adam\", loss=\"mean_absolute_error\", metrics=[\"mae\"])"
   ]
  },
  {
   "cell_type": "code",
   "execution_count": null,
   "id": "38129de1",
   "metadata": {},
   "outputs": [],
   "source": [
    "#  setup tensorboard \n",
    "import datetime\n",
    "from tensorflow.keras.callbacks import TensorBoard, EarlyStopping\n",
    "\n",
    "log_dir = \"regression_logs/fit/\" + datetime.datetime.now().strftime(\"%Y%m%d-%H%M%S\")\n",
    "tensorflow_callback = TensorBoard(log_dir=log_dir, histogram_freq=1)"
   ]
  },
  {
   "cell_type": "code",
   "execution_count": null,
   "id": "7d1aca94",
   "metadata": {},
   "outputs": [],
   "source": [
    "# setup up early stopping\n",
    "early_stopping_callback = EarlyStopping(\n",
    "    monitor=\"val_loss\", patience=10, restore_best_weights=True\n",
    ")"
   ]
  },
  {
   "cell_type": "code",
   "execution_count": null,
   "id": "e3f22133",
   "metadata": {},
   "outputs": [],
   "source": [
    "# Train the model\n",
    "history = model.fit(\n",
    "    X_train,\n",
    "    y_train,\n",
    "    validation_data=(X_test, y_test),\n",
    "    epochs=100,\n",
    "    callbacks=[tensorflow_callback, early_stopping_callback],\n",
    ")"
   ]
  },
  {
   "cell_type": "code",
   "execution_count": null,
   "id": "68ecb3c9",
   "metadata": {},
   "outputs": [],
   "source": [
    "%load_ext tensorboard"
   ]
  },
  {
   "cell_type": "code",
   "execution_count": null,
   "id": "3a9dcd3e",
   "metadata": {},
   "outputs": [],
   "source": [
    "%tensorboard --logdir regression_logs/fit"
   ]
  },
  {
   "cell_type": "code",
   "execution_count": null,
   "id": "38f31e26",
   "metadata": {},
   "outputs": [],
   "source": [
    "#  evaluate the model\n",
    "loss, mae = model.evaluate(X_test, y_test)\n",
    "print(f\"Loss: {loss}, MAE: {mae}\")"
   ]
  },
  {
   "cell_type": "code",
   "execution_count": null,
   "id": "3aac144c",
   "metadata": {},
   "outputs": [],
   "source": [
    "#  save the model\n",
    "model.save(\"salary_regression_model.h5\")"
   ]
  }
 ],
 "metadata": {
  "kernelspec": {
   "display_name": "venv",
   "language": "python",
   "name": "python3"
  },
  "language_info": {
   "codemirror_mode": {
    "name": "ipython",
    "version": 3
   },
   "file_extension": ".py",
   "mimetype": "text/x-python",
   "name": "python",
   "nbconvert_exporter": "python",
   "pygments_lexer": "ipython3",
   "version": "3.9.6"
  }
 },
 "nbformat": 4,
 "nbformat_minor": 5
}
